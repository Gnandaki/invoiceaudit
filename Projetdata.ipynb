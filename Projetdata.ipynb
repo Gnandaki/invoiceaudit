{
  "nbformat": 4,
  "nbformat_minor": 0,
  "metadata": {
    "colab": {
      "provenance": [],
      "collapsed_sections": [
        "QEAoNbFmhVf7",
        "nAYxpnIyheIX",
        "iAUTmlK8hk1o"
      ],
      "authorship_tag": "ABX9TyMJMcGKQiaQModUrXjATSyz",
      "include_colab_link": true
    },
    "kernelspec": {
      "name": "python3",
      "display_name": "Python 3"
    },
    "language_info": {
      "name": "python"
    }
  },
  "cells": [
    {
      "cell_type": "markdown",
      "metadata": {
        "id": "view-in-github",
        "colab_type": "text"
      },
      "source": [
        "<a href=\"https://colab.research.google.com/github/Gnandaki/invoiceaudit/blob/main/Projetdata.ipynb\" target=\"_parent\"><img src=\"https://colab.research.google.com/assets/colab-badge.svg\" alt=\"Open In Colab\"/></a>"
      ]
    },
    {
      "cell_type": "markdown",
      "source": [
        "\n",
        "1.   Utiliser les données démographiques des clients, telles que le sexe, l'état matrimonial, le niveau d'éducation et la catégorie de revenu pour déterminer quel groupe démographique des clients est le plus susceptible d'être désabonné.\n",
        "Analyser le comportement de dépense du client menant au désabonnement et utiliser ces données pour mieux prédire la probabilité qu'un client se désintéresse à l'avenir.\n",
        "2.   Créer un classificateur capable de prédire les clients potentiels qui sont plus susceptibles d'être perdus en fonction de leur pointage de crédit, de leur limite de crédit, de leur taux d'utilisation et d'autres indicateurs de comportement d'achat au fil du temps ; cela pourrait être utilisé comme un système d'alerte précoce pour prédire l'attrition potentielle avant qu'elle ne se produise\n",
        "[lien kaggle](https://www.kaggle.com/datasets/thedevastator/predicting-credit-card-customer-attrition-with-m)"
      ],
      "metadata": {
        "id": "iHOYgNdEhwpQ"
      }
    },
    {
      "cell_type": "markdown",
      "source": [
        "# import des bibliothèques\n"
      ],
      "metadata": {
        "id": "QEAoNbFmhVf7"
      }
    },
    {
      "cell_type": "code",
      "execution_count": null,
      "metadata": {
        "id": "8SQTNWlJgJBK"
      },
      "outputs": [],
      "source": []
    },
    {
      "cell_type": "markdown",
      "source": [
        "# import de la donnée et preprocessing"
      ],
      "metadata": {
        "id": "nAYxpnIyheIX"
      }
    },
    {
      "cell_type": "markdown",
      "source": [
        "https://www.kaggle.com/datasets/thedevastator/predicting-credit-card-customer-attrition-with-m"
      ],
      "metadata": {
        "id": "6QAJv7MCiFII"
      }
    },
    {
      "cell_type": "markdown",
      "source": [
        "https://www.kaggle.com/datasets/thedevastator/predicting-credit-card-customer-attrition-with-m/download?datasetVersionNumber=2"
      ],
      "metadata": {
        "id": "dw8Gr5nmiMkr"
      }
    },
    {
      "cell_type": "code",
      "source": [],
      "metadata": {
        "id": "TDoQsjtxhkUG"
      },
      "execution_count": null,
      "outputs": []
    },
    {
      "cell_type": "markdown",
      "source": [
        "# Construction des modèles de prédiction"
      ],
      "metadata": {
        "id": "iAUTmlK8hk1o"
      }
    },
    {
      "cell_type": "code",
      "source": [],
      "metadata": {
        "id": "t1-obfhzhvWB"
      },
      "execution_count": null,
      "outputs": []
    }
  ]
}